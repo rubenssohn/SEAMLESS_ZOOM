{
 "cells": [
  {
   "cell_type": "markdown",
   "metadata": {},
   "source": [
    "# Example Notebook for Time-Order Map for Seamless Zooming\n",
    "\n",
    "This notebook was created by *Christoffer Rubensson*. \n",
    "\n",
    "The notebook can can be used to test out the python modules in this project. It also contains example graphs presented in the paper *Time-Order Map for Seamless Zooming between\n",
    "Process Models and Process Instances*."
   ]
  },
  {
   "cell_type": "markdown",
   "metadata": {},
   "source": [
    "#### Initialization"
   ]
  },
  {
   "cell_type": "code",
   "execution_count": null,
   "metadata": {},
   "outputs": [],
   "source": [
    "%load_ext autoreload\n",
    "%autoreload 2"
   ]
  },
  {
   "cell_type": "code",
   "execution_count": null,
   "metadata": {},
   "outputs": [],
   "source": [
    "# add packages from 'src'\n",
    "import sys\n",
    "from pathlib import Path\n",
    "\n",
    "# App directory\n",
    "project_root = Path.cwd().parent  # Adjust this if necessary\n",
    "sys.path.append(str(project_root))"
   ]
  },
  {
   "cell_type": "code",
   "execution_count": null,
   "metadata": {},
   "outputs": [],
   "source": [
    "# Package Modules\n",
    "from src.utils.data_exporting import *\n",
    "from src.utils.data_importing import *\n",
    "from src.utils.data_processing import *\n",
    "from src.algo.global_ranking import *\n",
    "from src.orchestrator import *"
   ]
  },
  {
   "cell_type": "code",
   "execution_count": null,
   "metadata": {},
   "outputs": [],
   "source": [
    "# Third-party packages\n",
    "import pandas as pd\n",
    "import pm4py\n",
    "from pm4py.visualization.dfg import visualizer\n",
    "import plotly\n",
    "import plotly.express as px\n",
    "import graphviz"
   ]
  },
  {
   "cell_type": "code",
   "execution_count": null,
   "metadata": {},
   "outputs": [],
   "source": [
    "# Package version information\n",
    "version_pandas = pd.__version__ \n",
    "print(f\"Pandas version: {version_pandas}\")\n",
    "version_pm4py = pm4py.__version__ \n",
    "print(f\"PM4Py version: {version_pm4py}\")\n",
    "version_plotly = plotly.__version__ \n",
    "print(f\"Plotly version: {version_plotly}\")\n",
    "version_graphviz = graphviz.__version__ \n",
    "print(f\"Graphviz version: {version_graphviz}\")"
   ]
  },
  {
   "cell_type": "markdown",
   "metadata": {},
   "source": [
    "## Testing"
   ]
  },
  {
   "cell_type": "markdown",
   "metadata": {},
   "source": [
    "**Data import**"
   ]
  },
  {
   "cell_type": "code",
   "execution_count": null,
   "metadata": {},
   "outputs": [],
   "source": [
    "# Evaluation\n",
    "df_org = load_event_log(\"runningexample.xes\", \"evaluation_data\")\n",
    "df = df_org.copy()"
   ]
  },
  {
   "cell_type": "markdown",
   "metadata": {},
   "source": [
    "**Data pre-processing**"
   ]
  },
  {
   "cell_type": "markdown",
   "metadata": {},
   "source": [
    "*Filter Cases*"
   ]
  },
  {
   "cell_type": "markdown",
   "metadata": {},
   "source": [
    "Can be used to reduce the amount of cases in the log."
   ]
  },
  {
   "cell_type": "code",
   "execution_count": null,
   "metadata": {},
   "outputs": [],
   "source": [
    "#cases = df[\"case:concept:name\"].unique()\n",
    "#casessorted = sorted(cases)\n",
    "#casessorted_filtered = casessorted[0:1050]\n",
    "#len(casessorted_filtered)\n",
    "#df_filtered = df[df[\"case:concept:name\"].isin(casessorted_filtered)]"
   ]
  },
  {
   "cell_type": "markdown",
   "metadata": {},
   "source": [
    "*Prepare log for D3.js*"
   ]
  },
  {
   "cell_type": "markdown",
   "metadata": {},
   "source": [
    "This function pre-processes the log data before applying it to D3. It utilizes the functions below (--). "
   ]
  },
  {
   "cell_type": "code",
   "execution_count": null,
   "metadata": {},
   "outputs": [],
   "source": [
    "df_d3 = process_log_for_d3js(df)"
   ]
  },
  {
   "cell_type": "markdown",
   "metadata": {},
   "source": [
    "*-- Break down process_log_for_d3js*"
   ]
  },
  {
   "cell_type": "code",
   "execution_count": null,
   "metadata": {},
   "outputs": [],
   "source": [
    "df_note = simplifyLog(df) # reduces the number of log attributes to the most basic ones\n",
    "df_note = relativeTimestamps(df_note) # adds relative timestamps to the log"
   ]
  },
  {
   "cell_type": "markdown",
   "metadata": {},
   "source": [
    "*-- Ranking methods*"
   ]
  },
  {
   "cell_type": "code",
   "execution_count": null,
   "metadata": {},
   "outputs": [],
   "source": [
    "global_ranking_method_df_relativetime(df_note, annotation=True) # ranks activities"
   ]
  },
  {
   "cell_type": "code",
   "execution_count": null,
   "metadata": {},
   "outputs": [],
   "source": [
    "df_note, ranking_map = global_ranking_of_eventdata(df_note) # add ranked activities to the log as a new attribute"
   ]
  },
  {
   "cell_type": "markdown",
   "metadata": {},
   "source": [
    "**Export log**"
   ]
  },
  {
   "cell_type": "code",
   "execution_count": null,
   "metadata": {},
   "outputs": [],
   "source": [
    "file_path = \"data/export_data\"\n",
    "file_name = \"data-runningexample.csv\""
   ]
  },
  {
   "cell_type": "code",
   "execution_count": null,
   "metadata": {},
   "outputs": [],
   "source": [
    "# Alternative export\n",
    "#file_path = \"evaluation_data/\"\n",
    "#file_name = \"roadtrafficfine_1050.xes\""
   ]
  },
  {
   "cell_type": "markdown",
   "metadata": {},
   "source": [
    "Export as *CSV*"
   ]
  },
  {
   "cell_type": "code",
   "execution_count": null,
   "metadata": {},
   "outputs": [],
   "source": [
    "#df.to_csv(file_path + file_name)"
   ]
  },
  {
   "cell_type": "markdown",
   "metadata": {},
   "source": [
    "Export as *XES*"
   ]
  },
  {
   "cell_type": "code",
   "execution_count": null,
   "metadata": {},
   "outputs": [],
   "source": [
    "#export_event_log(df, filename= file_name, foldername=file_path)"
   ]
  },
  {
   "cell_type": "markdown",
   "metadata": {},
   "source": [
    "### Additional Visaulizations in Paper"
   ]
  },
  {
   "cell_type": "markdown",
   "metadata": {},
   "source": [
    "**Dotted Chart**"
   ]
  },
  {
   "cell_type": "code",
   "execution_count": null,
   "metadata": {},
   "outputs": [],
   "source": [
    "# Sort log\n",
    "log = df_note.sort_values(by=['time:timestamp','case:concept:name'])\n",
    "log['time:relative:days'] = pd.to_timedelta(log['time:timestamp:relative'], unit='ns') / pd.Timedelta(days=1)\n",
    "\n",
    "# Create a scatter plot for a dotted chart\n",
    "fig = px.scatter(\n",
    "    log,\n",
    "    x='time:relative:days',\n",
    "    y='case:concept:name',\n",
    "    #y='concept:name', \n",
    "    color='concept:name',\n",
    "    opacity=0.9,\n",
    "    width=750, # default: 750\n",
    "    height=250, # default: 250\n",
    "    category_orders={\n",
    "        \"case:concept:name\": sorted(log[\"case:concept:name\"].unique())[::-1]  # alphabetical sorting of cases\n",
    "    }\n",
    ")\n",
    "\n",
    "# Customize layout\n",
    "fig.update_layout(\n",
    "    xaxis_title=\"Relative Time (days)\",\n",
    "    yaxis_title=\"Cases\",\n",
    "    legend_title=\"Activities\",\n",
    "    xaxis=dict(showgrid=True),\n",
    "    yaxis=dict(showgrid=True),\n",
    "    plot_bgcolor='#f2f2f2',\n",
    ")\n",
    "\n",
    "# Visualizate the plot\n",
    "fig.update_traces(marker=dict(size=10))\n",
    "fig.show()"
   ]
  },
  {
   "cell_type": "markdown",
   "metadata": {},
   "source": [
    "*Export image:*"
   ]
  },
  {
   "cell_type": "code",
   "execution_count": null,
   "metadata": {},
   "outputs": [],
   "source": [
    "# Write image\n",
    "#file_path = f\"{project_root}/data/\"\n",
    "#file_name=\"fig_ex-instance-running\"\n",
    "#file_suffix=\".svg\"\n",
    "#fig.write_image(file_path+file_name+file_suffix)"
   ]
  },
  {
   "cell_type": "markdown",
   "metadata": {},
   "source": [
    "**Performance DFG**"
   ]
  },
  {
   "cell_type": "markdown",
   "metadata": {},
   "source": [
    "Note: In the paper, the graph was post-processed to change the color and size."
   ]
  },
  {
   "cell_type": "code",
   "execution_count": null,
   "metadata": {},
   "outputs": [],
   "source": [
    "log = df_org.copy()\n",
    "performance_dfg, start_activities, end_activities = pm4py.discover_performance_dfg(log)\n",
    "\n",
    "# Create the visualization object (gviz)\n",
    "gviz = visualizer.apply(performance_dfg,\n",
    "                        variant=visualizer.Variants.PERFORMANCE,\n",
    "                        parameters={\"start_activities\": start_activities,\n",
    "                                    \"end_activities\": end_activities})\n",
    "gviz"
   ]
  },
  {
   "cell_type": "markdown",
   "metadata": {},
   "source": [
    "*Export image*"
   ]
  },
  {
   "cell_type": "code",
   "execution_count": null,
   "metadata": {},
   "outputs": [],
   "source": [
    "#filepath\n",
    "file_path = f\"{project_root}/data/\"\n",
    "file_name=\"fig_ex-model-running\"\n",
    "file_suffix=\".svg\"\n",
    "\n",
    "#export DiGraph\n",
    "gviz.render(file_path+file_name, format='svg', cleanup=True)"
   ]
  }
 ],
 "metadata": {
  "kernelspec": {
   "display_name": "seamvenv",
   "language": "python",
   "name": "python3"
  },
  "language_info": {
   "codemirror_mode": {
    "name": "ipython",
    "version": 3
   },
   "file_extension": ".py",
   "mimetype": "text/x-python",
   "name": "python",
   "nbconvert_exporter": "python",
   "pygments_lexer": "ipython3",
   "version": "3.11.11"
  }
 },
 "nbformat": 4,
 "nbformat_minor": 2
}
