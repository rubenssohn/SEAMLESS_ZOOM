{
 "cells": [
  {
   "cell_type": "markdown",
   "metadata": {},
   "source": [
    "# Example Notebook for Time-Order Map for Seamless Zooming\n",
    "\n",
    "This notebook can be used to test out the python modules in this project."
   ]
  },
  {
   "cell_type": "markdown",
   "metadata": {},
   "source": [
    "**Initialization**"
   ]
  },
  {
   "cell_type": "code",
   "execution_count": null,
   "metadata": {},
   "outputs": [],
   "source": [
    "%load_ext autoreload\n",
    "%autoreload 2"
   ]
  },
  {
   "cell_type": "code",
   "execution_count": null,
   "metadata": {},
   "outputs": [],
   "source": [
    "# add packages from 'src'\n",
    "import sys\n",
    "from pathlib import Path\n",
    "\n",
    "# App directory\n",
    "project_root = Path.cwd().parent  # Adjust this if necessary\n",
    "sys.path.append(str(project_root))"
   ]
  },
  {
   "cell_type": "code",
   "execution_count": null,
   "metadata": {},
   "outputs": [],
   "source": [
    "# Package Modules\n",
    "from src.utils.data_exporting import *\n",
    "from src.utils.data_importing import *\n",
    "from src.utils.data_processing import *\n",
    "from src.algo.global_ranking import *\n",
    "from src.orchestrator import *"
   ]
  },
  {
   "cell_type": "code",
   "execution_count": null,
   "metadata": {},
   "outputs": [],
   "source": [
    "# further packages\n",
    "import matplotlib.pyplot as plt\n",
    "import pandas as pd\n",
    "import pm4py\n",
    "import seaborn as sns"
   ]
  },
  {
   "cell_type": "markdown",
   "metadata": {},
   "source": [
    "**Data import**"
   ]
  },
  {
   "cell_type": "code",
   "execution_count": null,
   "metadata": {},
   "outputs": [],
   "source": [
    "# Evaluation\n",
    "df_org = load_event_log(\"runningexample.xes\", \"evaluation_data\")\n",
    "df = df_org.copy()"
   ]
  },
  {
   "cell_type": "markdown",
   "metadata": {},
   "source": [
    "**Data pre-processing**"
   ]
  },
  {
   "cell_type": "markdown",
   "metadata": {},
   "source": [
    "*Filter by Cases*"
   ]
  },
  {
   "cell_type": "code",
   "execution_count": null,
   "metadata": {},
   "outputs": [],
   "source": [
    "#cases = df[\"case:concept:name\"].unique()\n",
    "#casessorted = sorted(cases)\n",
    "#casessorted_filtered = casessorted[0:1050]\n",
    "#len(casessorted_filtered)\n",
    "#df_filtered = df[df[\"case:concept:name\"].isin(casessorted_filtered)]"
   ]
  },
  {
   "cell_type": "markdown",
   "metadata": {},
   "source": [
    "*Prepare log for D3.js*"
   ]
  },
  {
   "cell_type": "code",
   "execution_count": null,
   "metadata": {},
   "outputs": [],
   "source": [
    "df = process_log_for_d3js(df)"
   ]
  },
  {
   "cell_type": "markdown",
   "metadata": {},
   "source": [
    "*-- Break down process_log_for_d3js*"
   ]
  },
  {
   "cell_type": "code",
   "execution_count": null,
   "metadata": {},
   "outputs": [],
   "source": [
    "df = simplifyLog(df)\n",
    "df = relativeTimestamps(df)"
   ]
  },
  {
   "cell_type": "code",
   "execution_count": null,
   "metadata": {},
   "outputs": [],
   "source": [
    "#global_ranking_method_df_relativetime(df, annotation=True)"
   ]
  },
  {
   "cell_type": "code",
   "execution_count": null,
   "metadata": {},
   "outputs": [],
   "source": [
    "#df, ranking_map = global_ranking_of_eventdata(df)"
   ]
  },
  {
   "cell_type": "markdown",
   "metadata": {},
   "source": [
    "**Export log**"
   ]
  },
  {
   "cell_type": "code",
   "execution_count": null,
   "metadata": {},
   "outputs": [],
   "source": [
    "file_path = \"data/export_data\"\n",
    "file_name = \"data-runningexample.csv\""
   ]
  },
  {
   "cell_type": "markdown",
   "metadata": {},
   "source": [
    "*CSV*"
   ]
  },
  {
   "cell_type": "code",
   "execution_count": null,
   "metadata": {},
   "outputs": [],
   "source": [
    "#df.to_csv(file_path + file_name)"
   ]
  },
  {
   "cell_type": "markdown",
   "metadata": {},
   "source": [
    "*XES*"
   ]
  },
  {
   "cell_type": "code",
   "execution_count": null,
   "metadata": {},
   "outputs": [],
   "source": [
    "file_path = \"export_data/\"\n",
    "file_name = \"roadtrafficfine_1050.xes\"\n",
    "#export_event_log(df, filename= file_name, foldername=file_path)"
   ]
  },
  {
   "cell_type": "markdown",
   "metadata": {},
   "source": [
    "### Additional Visaulizations in Paper"
   ]
  },
  {
   "cell_type": "markdown",
   "metadata": {},
   "source": [
    "**Dotted Chart**"
   ]
  },
  {
   "cell_type": "code",
   "execution_count": null,
   "metadata": {},
   "outputs": [],
   "source": [
    "import plotly.express as px\n",
    "\n",
    "# Sort log\n",
    "log = df.sort_values(by=['time:timestamp', 'case:concept:name'])\n",
    "log['time:relative:days'] = pd.to_timedelta(log['time:timestamp:relative'], unit='ns') / pd.Timedelta(days=1)\n",
    "\n",
    "# Create a scatter plot for a dotted chart\n",
    "fig = px.scatter(\n",
    "    log,\n",
    "    x='time:relative:days',\n",
    "    y='case:concept:name',\n",
    "    color='concept:name',\n",
    "    opacity=0.9,\n",
    "    width=700,\n",
    "    height=320,\n",
    ")\n",
    "\n",
    "# Customize layout\n",
    "fig.update_layout(\n",
    "    xaxis_title=\"Relative Time (days)\",\n",
    "    #xaxis_title=\"Time\",\n",
    "    yaxis_title=\"Cases\",\n",
    "    legend_title=\"Activities\",\n",
    "    xaxis=dict(showgrid=True),\n",
    "    yaxis=dict(showgrid=True),\n",
    "    plot_bgcolor='#f2f2f2',\n",
    ")\n",
    "\n",
    "# Visualizate the plot\n",
    "#fig.update_traces(marker=dict(size=10))\n",
    "fig.update_traces(marker=dict(size=10))\n",
    "fig.show()\n",
    "\n",
    "# Write image\n",
    "file_path = f\"{project_root}/data/\"\n",
    "file_name=\"fig_ex-instance-running\"\n",
    "file_suffix=\".svg\"\n",
    "fig.write_image(file_path+file_name+file_suffix)"
   ]
  },
  {
   "cell_type": "markdown",
   "metadata": {},
   "source": [
    "**Performance DFG**"
   ]
  },
  {
   "cell_type": "code",
   "execution_count": null,
   "metadata": {},
   "outputs": [],
   "source": [
    "from pm4py.visualization.dfg import visualizer\n",
    "\n",
    "log = df.copy()\n",
    "\n",
    "performance_dfg, start_activities, end_activities = pm4py.discover_performance_dfg(log)\n",
    "\n",
    "# Create the visualization object (gviz)\n",
    "gviz = visualizer.apply(performance_dfg,\n",
    "                        variant=visualizer.Variants.PERFORMANCE,\n",
    "                        parameters={\"start_activities\": start_activities,\n",
    "                                    \"end_activities\": end_activities})\n",
    "gviz"
   ]
  },
  {
   "cell_type": "code",
   "execution_count": null,
   "metadata": {},
   "outputs": [],
   "source": [
    "import graphviz\n",
    "\n",
    "#filepath\n",
    "file_path = f\"{project_root}/data/\"\n",
    "file_name=\"fig_ex-model-running\"\n",
    "file_suffix=\".svg\"\n",
    "\n",
    "#export DiGraph\n",
    "gviz.render(file_path+file_name, format='svg', cleanup=True)"
   ]
  },
  {
   "cell_type": "code",
   "execution_count": null,
   "metadata": {},
   "outputs": [],
   "source": []
  }
 ],
 "metadata": {
  "kernelspec": {
   "display_name": "seamvenv",
   "language": "python",
   "name": "python3"
  },
  "language_info": {
   "codemirror_mode": {
    "name": "ipython",
    "version": 3
   },
   "file_extension": ".py",
   "mimetype": "text/x-python",
   "name": "python",
   "nbconvert_exporter": "python",
   "pygments_lexer": "ipython3",
   "version": "3.11.11"
  }
 },
 "nbformat": 4,
 "nbformat_minor": 2
}
